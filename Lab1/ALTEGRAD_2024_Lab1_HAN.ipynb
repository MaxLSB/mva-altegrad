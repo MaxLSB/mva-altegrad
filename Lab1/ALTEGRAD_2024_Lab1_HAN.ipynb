{
  "cells": [
    {
      "cell_type": "markdown",
      "metadata": {
        "id": "MuVouapRmjEW"
      },
      "source": [
        "<center><h2>ALTeGraD 2024<br>Lab Session 1: HAN</h2><h3>Hierarchical Attention Network Using GRU</h3> 8 / 10 / 2024<br> Dr. Guokan Shang, Yang Zhang<br><br>\n",
        "\n",
        "\n",
        "<b>Student name:</b> Maxence Lasbordes\n",
        "\n",
        "\n",
        "</center>\n",
        "In this lab, you will get familiar with recurrent neural networks (RNNs), self-attention, and the HAN architecture <b>(Yang et al. 2016)</b> using PyTorch. In this architecture, sentence embeddings are first individually produced, and a document embedding is then computed from the sentence embeddings.<br>\n",
        "<b>The deadline for this lab is October 15, 2024 11:59 PM.</b> More details about the submission and the architecture for this lab can be found in the handout PDF.\n"
      ]
    },
    {
      "cell_type": "markdown",
      "metadata": {
        "id": "xJaSJaIP1xRy"
      },
      "source": [
        "### = = = = =  Attention Layer = = = = =\n",
        "In thi section, you will fill the gaps in the code to implement the self-attention layer. This layer will be used later to define the HAN architecture. The basic idea behind attention is that rather than considering the last annotation $h_T$ as a summary of the entire sequence, which is prone to information loss, the annotations at <i>all</i> time steps are used.\n",
        "The self-attention mechanism computes a weighted sum of the annotations, where the weights are determined by trainable parameters. Refer to <b>section 2.2</b> in the handout for the theoretical part, it will be needed to finish the first task.\n",
        "\n",
        "#### <b>Task 1:</b>"
      ]
    },
    {
      "cell_type": "code",
      "execution_count": 2,
      "metadata": {
        "id": "yoM7H0KQncpF"
      },
      "outputs": [],
      "source": [
        "import torch\n",
        "from torch import nn\n",
        "from torch.utils.data import DataLoader\n",
        "\n",
        "class AttentionWithContext(nn.Module):\n",
        "    \"\"\"\n",
        "    Follows the work of Yang et al. [https://www.cs.cmu.edu/~diyiy/docs/naacl16.pdf]\n",
        "    \"Hierarchical Attention Networks for Document Classification\"\n",
        "    by using a context vector to assist the attention\n",
        "    # Input shape\n",
        "        3D tensor with shape: `(samples, steps, features)`.\n",
        "    # Output shape\n",
        "        2D tensor with shape: `(samples, features)`.\n",
        "    \"\"\"\n",
        "    \n",
        "    def __init__(self, input_shape, return_coefficients=False, bias=True):\n",
        "        super(AttentionWithContext, self).__init__()\n",
        "        self.return_coefficients = return_coefficients\n",
        "\n",
        "        self.W = nn.Linear(input_shape, input_shape, bias=bias)\n",
        "        self.tanh = nn.Tanh()\n",
        "        self.u = nn.Linear(input_shape, 1, bias=False)\n",
        "\n",
        "        self.init_weights()\n",
        "\n",
        "    def init_weights(self):\n",
        "        initrange = 0.1\n",
        "        self.W.weight.data.uniform_(-initrange, initrange)\n",
        "        self.W.bias.data.uniform_(-initrange, initrange)\n",
        "        self.u.weight.data.uniform_(-initrange, initrange)\n",
        "    \n",
        "    def generate_square_subsequent_mask(self, sz):\n",
        "        # do not pass the mask to the next layers\n",
        "        mask = (torch.triu(torch.ones(sz, sz)) == 1).transpose(0, 1)\n",
        "        mask = (\n",
        "            mask.float()\n",
        "            .masked_fill(mask == 0, float(\"-inf\"))\n",
        "            .masked_fill(mask == 1, float(0.0))\n",
        "        )\n",
        "        return mask\n",
        "    \n",
        "    def forward(self, x, mask=None):\n",
        "        uit = self.W(x) # compute uit = W . x  where x represents ht\n",
        "        uit = self.tanh(uit)\n",
        "        ait = self.u(uit)\n",
        "        a = torch.exp(ait)\n",
        "        \n",
        "        # apply mask after the exp. will be re-normalized next\n",
        "        if mask is not None:\n",
        "            a = a*mask.double()\n",
        "        \n",
        "        # in some cases especially in the early stages of training the sum may be almost zero\n",
        "        # and this results in NaN's. A workaround is to add a very small positive number ε to the sum.\n",
        "        eps = 1e-9\n",
        "        a = a / (torch.sum(a, axis=1, keepdim=True) + eps)\n",
        "        weighted_input = torch.sum(a * x, axis=1) # compute the attentional vector\n",
        "        if self.return_coefficients:\n",
        "            return  [weighted_input, a] ### [attentional vector, coefficients] ### use torch.sum to compute s\n",
        "        else:\n",
        "            return  weighted_input ### attentional vector only ###"
      ]
    },
    {
      "cell_type": "markdown",
      "metadata": {
        "id": "DgTP6GrOHlss"
      },
      "source": [
        "### = = = = = Parameters = = = = =\n",
        "In this section, we define the parameters to use in our training. Such as data path, the embedding dimention <b>d</b>, the GRU layer dimensionality <b>n_units</b>, etc..<br>\n",
        "The parameter <b>device</b> is used to train the model on GPU if it is available. for this purpose, if you are using Google Colab, switch your runtime to a GPU runtime to train the model with a maximum speed.<br>\n",
        "<b>Bonus question:</b> What is the purpose of the parameter <i>my_patience</i>?"
      ]
    },
    {
      "cell_type": "code",
      "execution_count": 3,
      "metadata": {
        "id": "czsVjxgYnczb"
      },
      "outputs": [
        {
          "name": "stdout",
          "output_type": "stream",
          "text": [
            "Device: cuda\n"
          ]
        }
      ],
      "source": [
        "import sys\n",
        "import json\n",
        "import operator\n",
        "import numpy as np\n",
        "\n",
        "path_root = ''\n",
        "path_to_data = path_root + 'data/'\n",
        "\n",
        "d = 30 # dimensionality of word embeddings\n",
        "n_units = 50 # RNN layer dimensionality\n",
        "drop_rate = 0.5 # dropout\n",
        "mfw_idx = 2 # index of the most frequent words in the dictionary \n",
        "            # 0 is for the special padding token\n",
        "            # 1 is for the special out-of-vocabulary token\n",
        "\n",
        "padding_idx = 0\n",
        "oov_idx = 1\n",
        "batch_size = 64\n",
        "nb_epochs = 15\n",
        "my_patience = 2 # for early stopping strategy\n",
        "device = torch.device(\"cuda\" if torch.cuda.is_available() else \"cpu\")\n",
        "print('Device:', device)"
      ]
    },
    {
      "cell_type": "markdown",
      "metadata": {
        "id": "K8Vot_C7Hlst"
      },
      "source": [
        "### = = = = = Data Loading = = = = =\n",
        "In this section we will use first <b>wget</b> to download the data the we will load it using numpy in the first cell. While in the second cell, we will use these data to define our Pytorch data loader. Note that the data is already preprocessed, tokenized and padded.<br><br>\n",
        "<b>Note: if you are running your notebook on Windows or on MacOS, <i>wget</i> will probably not work if you did not install it manually. In this case, use the provided link to download the data and change the <i>path_to_data</i> in the <i>Parameters</i> section accordingly. Otherwise, you will face no problem on Ubuntu and Google Colab.</b>\n",
        "\n",
        "#### <b>Task 2.1:</b>"
      ]
    },
    {
      "cell_type": "code",
      "execution_count": 4,
      "metadata": {
        "id": "UD6hRh0OHlst"
      },
      "outputs": [
        {
          "name": "stderr",
          "output_type": "stream",
          "text": [
            "'unzip' n'est pas reconnu en tant que commande interne\n",
            "ou externe, un programme ex�cutable ou un fichier de commandes.\n"
          ]
        }
      ],
      "source": [
        "import urllib.request\n",
        "url = \"https://onedrive.live.com/download?cid=AE69638675180117&resid=AE69638675180117%2199289&authkey=AHgxt3xmgG0Fu5A\"\n",
        "output_file = \"data.zip\"\n",
        "urllib.request.urlretrieve(url, output_file)\n",
        "\n",
        "!unzip data.zip\n",
        "\n",
        "my_docs_array_train = np.load(path_to_data + 'docs_train.npy')\n",
        "my_docs_array_test = np.load(path_to_data + 'docs_test.npy')\n",
        "\n",
        "my_labels_array_train = np.load(path_to_data + 'labels_train.npy')\n",
        "my_labels_array_test = np.load(path_to_data + 'labels_test.npy')\n",
        "\n",
        "# load dictionary of word indexes (sorted by decreasing frequency across the corpus)\n",
        "with open(path_to_data + 'word_to_index.json', 'r') as my_file:\n",
        "    word_to_index = json.load(my_file)\n",
        "\n",
        "# invert mapping\n",
        "index_to_word = {v: k for k, v in word_to_index.items()} # (use a dict comprehension) ###\n",
        "input_size = my_docs_array_train.shape"
      ]
    },
    {
      "cell_type": "code",
      "execution_count": 5,
      "metadata": {
        "id": "DpsCvmaiJfZc"
      },
      "outputs": [],
      "source": [
        "import numpy\n",
        "import torch\n",
        "from torch.utils.data import DataLoader, Dataset\n",
        "\n",
        "\n",
        "class Dataset_(Dataset):\n",
        "    def __init__(self, x, y):\n",
        "        self.documents = x\n",
        "        self.labels = y\n",
        "\n",
        "    def __len__(self):\n",
        "        return len(self.documents)\n",
        "\n",
        "    def __getitem__(self, index):\n",
        "        document = self.documents[index]\n",
        "        label = self.labels[index] \n",
        "        sample = {\n",
        "            \"document\": torch.tensor(document),\n",
        "            \"label\": torch.tensor(label),\n",
        "            }\n",
        "        return sample\n",
        "\n",
        "\n",
        "def get_loader(x, y, batch_size=32):\n",
        "    dataset = Dataset_(x, y)\n",
        "    data_loader = DataLoader(dataset=dataset,\n",
        "                            batch_size=batch_size,\n",
        "                            shuffle=True,\n",
        "                            pin_memory=True,\n",
        "                            drop_last=True,\n",
        "                            )\n",
        "    return data_loader"
      ]
    },
    {
      "cell_type": "markdown",
      "metadata": {
        "id": "6rzqEGOdHlst"
      },
      "source": [
        "### = = = = = Defining Architecture = = = = =\n",
        "In this section, we define the HAN architecture. We start with <i>AttentionBiGRU</i> module in order to define the sentence encoder (check Figure 3 in the handout). Then, we define the <i>TimeDistributed</i> module to allow us to forward our input (batch of document) as to the sentence encoder as <b>batch of sentences</b>, where each sentence in the document will be considered as a time step. This module also reshape the output to a batch of timesteps representations per document. Finally we define the <b>HAN</b> architecture using <i>TimeDistributed</i>, <i>AttentionWithContext</i> and <i>GRU</i>.\n",
        "\n",
        "#### <b>Task 2.2:</b>"
      ]
    },
    {
      "cell_type": "code",
      "execution_count": 6,
      "metadata": {
        "id": "AMj9j1_pHlst"
      },
      "outputs": [],
      "source": [
        "\n",
        "class AttentionBiGRU(nn.Module):\n",
        "    def __init__(self, input_shape, n_units, index_to_word, dropout=0):\n",
        "        super(AttentionBiGRU, self).__init__()\n",
        "        self.embedding = nn.Embedding(len(index_to_word) + 2, d, padding_idx=0)\n",
        "        self.dropout = nn.Dropout(drop_rate)\n",
        "        self.gru = nn.GRU(input_size=d,\n",
        "                          hidden_size=n_units,\n",
        "                          num_layers=1,\n",
        "                          bias=True,\n",
        "                          batch_first=True,\n",
        "                          bidirectional=True)\n",
        "        self.attention = AttentionWithContext(n_units * 2, # the input shape for the attention layer\n",
        "                                              return_coefficients=True)\n",
        "\n",
        "\n",
        "    def forward(self, sent_ints):\n",
        "        sent_wv = self.embedding(sent_ints)\n",
        "        sent_wv_dr = self.dropout(sent_wv)\n",
        "        sent_wa, _ = self.gru(sent_wv_dr) # RNN layer\n",
        "        sent_att_vec, word_att_coeffs = self.attention(sent_wa) # attentional vector for the sent\n",
        "        sent_att_vec_dr = self.dropout(sent_att_vec)     \n",
        "        return sent_att_vec_dr, word_att_coeffs\n",
        "\n",
        "class TimeDistributed(nn.Module):\n",
        "    def __init__(self, module, batch_first=False):\n",
        "        super(TimeDistributed, self).__init__()\n",
        "        self.module = module\n",
        "        self.batch_first = batch_first\n",
        "\n",
        "    def forward(self, x):\n",
        "        if len(x.size()) <= 2:\n",
        "            return self.module(x)\n",
        "        # Squash samples and timesteps into a single axis\n",
        "        x_reshape = x.contiguous().view(-1, x.size(-1))  # (samples * timesteps, input_size) (448, 30)\n",
        "        sent_att_vec_dr, word_att_coeffs = self.module(x_reshape)\n",
        "        # We have to reshape the output\n",
        "        if self.batch_first:\n",
        "            sent_att_vec_dr = sent_att_vec_dr.contiguous().view(x.size(0), -1, sent_att_vec_dr.size(-1))  # (samples, timesteps, output_size)\n",
        "            word_att_coeffs = word_att_coeffs.contiguous().view(x.size(0), -1, word_att_coeffs.size(-1))  # (samples, timesteps, output_size)\n",
        "        else:\n",
        "            sent_att_vec_dr = sent_att_vec_dr.view(-1, x.size(1), sent_att_vec_dr.size(-1))  # (timesteps, samples, output_size)\n",
        "            word_att_coeffs = word_att_coeffs.view(-1, x.size(1), word_att_coeffs.size(-1))  # (timesteps, samples, output_size)\n",
        "        return sent_att_vec_dr, word_att_coeffs      \n",
        "\n",
        "class HAN(nn.Module):\n",
        "    def __init__(self, input_shape, n_units, index_to_word, dropout=0):\n",
        "        super(HAN, self).__init__()\n",
        "        self.encoder = AttentionBiGRU(input_shape, n_units, index_to_word, dropout)\n",
        "        self.timeDistributed = TimeDistributed(self.encoder, True)\n",
        "        self.dropout = nn.Dropout(drop_rate)\n",
        "        self.gru = nn.GRU(input_size=n_units * 2, # the input shape of GRU layer\n",
        "                          hidden_size=n_units,\n",
        "                          num_layers=1,\n",
        "                          bias=True,\n",
        "                          batch_first=True,\n",
        "                          bidirectional=True)\n",
        "        self.attention = AttentionWithContext(n_units * 2, # the input shape of between-sentence attention layer\n",
        "                                              return_coefficients=True)\n",
        "        self.lin_out = nn.Linear(n_units * 2, # the input size of the last linear layer\n",
        "                                 1)\n",
        "        self.preds = nn.Sigmoid()\n",
        "\n",
        "    def forward(self, doc_ints):\n",
        "        sent_att_vecs_dr, word_att_coeffs = self.timeDistributed(doc_ints) # get sentence representation\n",
        "        doc_sa, _ = self.gru(sent_att_vecs_dr)\n",
        "        doc_att_vec, sent_att_coeffs = self.attention(doc_sa)\n",
        "        doc_att_vec_dr = self.dropout(doc_att_vec)\n",
        "        doc_att_vec_dr = self.lin_out(doc_att_vec_dr)\n",
        "        return self.preds(doc_att_vec_dr), word_att_coeffs, sent_att_coeffs\n"
      ]
    },
    {
      "cell_type": "markdown",
      "metadata": {
        "id": "sgreR5AcHlst"
      },
      "source": [
        "### = = = = = Training = = = = =\n",
        "In this section, we have two code cells. In the first one, we define our evaluation function to compute the training and validation accuracies. While in the second one, we define our model, loss and optimizer and train the model over <i>nb_epochs</i>.<br>\n",
        "<b>Bonus task:</b> use <a href=\"https://pytorch.org/tutorials/recipes/recipes/tensorboard_with_pytorch.html\" target=\"_blank\">tensorboard</a> to visualize the loss and the validation accuray during the training.\n",
        "\n",
        "#### <b>Task 2.3:</b>"
      ]
    },
    {
      "cell_type": "code",
      "execution_count": 7,
      "metadata": {
        "id": "ztF2Lkie-C25"
      },
      "outputs": [],
      "source": [
        "def evaluate_accuracy(data_loader, verbose=True):\n",
        "    model.eval()\n",
        "    total_loss = 0.0\n",
        "    ncorrect = ntotal = 0\n",
        "    with torch.no_grad():\n",
        "        for idx, data in enumerate(data_loader):\n",
        "            # inference \n",
        "            output = model(data[\"document\"].to(device))[0] \n",
        "            output = output[:, -1] # only last vector\n",
        "            # total number of examples\n",
        "            ntotal +=  output.shape[0]\n",
        "            # number of correct predictions \n",
        "            predictions = torch.round(output)\n",
        "            ncorrect += torch.sum(predictions == data[\"label\"].to(device)) # number of correct prediction - hint: use torch.sum \n",
        "        acc = ncorrect.item() / ntotal\n",
        "        if verbose:\n",
        "          print(\"validation accuracy: {:3.2f}\".format(acc*100))\n",
        "        return acc"
      ]
    },
    {
      "cell_type": "code",
      "execution_count": 8,
      "metadata": {
        "id": "RRYiKhZEEidb"
      },
      "outputs": [
        {
          "name": "stderr",
          "output_type": "stream",
          "text": [
            "Epoch 1: 100%|██████████| 390/390 [00:17<00:00, 22.88batch/s, accuracy=60, loss=0.655]  \n"
          ]
        },
        {
          "name": "stdout",
          "output_type": "stream",
          "text": [
            "===> Epoch 1 Complete: Avg. Loss: 0.6549, Validation Accuracy: 69.42%\n",
            "Validation accuracy improved, saving model...\n",
            "\n"
          ]
        },
        {
          "name": "stderr",
          "output_type": "stream",
          "text": [
            "Epoch 2: 100%|██████████| 390/390 [00:17<00:00, 22.75batch/s, accuracy=70.4, loss=0.567]\n"
          ]
        },
        {
          "name": "stdout",
          "output_type": "stream",
          "text": [
            "===> Epoch 2 Complete: Avg. Loss: 0.5673, Validation Accuracy: 75.81%\n",
            "Validation accuracy improved, saving model...\n",
            "\n"
          ]
        },
        {
          "name": "stderr",
          "output_type": "stream",
          "text": [
            "Epoch 3: 100%|██████████| 390/390 [00:15<00:00, 24.83batch/s, accuracy=75.3, loss=0.506]\n"
          ]
        },
        {
          "name": "stdout",
          "output_type": "stream",
          "text": [
            "===> Epoch 3 Complete: Avg. Loss: 0.5055, Validation Accuracy: 78.78%\n",
            "Validation accuracy improved, saving model...\n",
            "\n"
          ]
        },
        {
          "name": "stderr",
          "output_type": "stream",
          "text": [
            "Epoch 4: 100%|██████████| 390/390 [00:16<00:00, 24.13batch/s, accuracy=78.2, loss=0.46] \n"
          ]
        },
        {
          "name": "stdout",
          "output_type": "stream",
          "text": [
            "===> Epoch 4 Complete: Avg. Loss: 0.4601, Validation Accuracy: 80.54%\n",
            "Validation accuracy improved, saving model...\n",
            "\n"
          ]
        },
        {
          "name": "stderr",
          "output_type": "stream",
          "text": [
            "Epoch 5: 100%|██████████| 390/390 [00:15<00:00, 24.50batch/s, accuracy=80.1, loss=0.428]\n"
          ]
        },
        {
          "name": "stdout",
          "output_type": "stream",
          "text": [
            "===> Epoch 5 Complete: Avg. Loss: 0.4284, Validation Accuracy: 80.33%\n"
          ]
        },
        {
          "name": "stderr",
          "output_type": "stream",
          "text": [
            "Epoch 6: 100%|██████████| 390/390 [00:16<00:00, 24.15batch/s, accuracy=81.8, loss=0.401]\n"
          ]
        },
        {
          "name": "stdout",
          "output_type": "stream",
          "text": [
            "===> Epoch 6 Complete: Avg. Loss: 0.4012, Validation Accuracy: 82.29%\n",
            "Validation accuracy improved, saving model...\n",
            "\n"
          ]
        },
        {
          "name": "stderr",
          "output_type": "stream",
          "text": [
            "Epoch 7: 100%|██████████| 390/390 [00:16<00:00, 24.21batch/s, accuracy=82.7, loss=0.387]\n"
          ]
        },
        {
          "name": "stdout",
          "output_type": "stream",
          "text": [
            "===> Epoch 7 Complete: Avg. Loss: 0.3867, Validation Accuracy: 83.07%\n",
            "Validation accuracy improved, saving model...\n",
            "\n"
          ]
        },
        {
          "name": "stderr",
          "output_type": "stream",
          "text": [
            "Epoch 8: 100%|██████████| 390/390 [00:16<00:00, 24.37batch/s, accuracy=84, loss=0.365]  \n"
          ]
        },
        {
          "name": "stdout",
          "output_type": "stream",
          "text": [
            "===> Epoch 8 Complete: Avg. Loss: 0.3653, Validation Accuracy: 83.76%\n",
            "Validation accuracy improved, saving model...\n",
            "\n"
          ]
        },
        {
          "name": "stderr",
          "output_type": "stream",
          "text": [
            "Epoch 9: 100%|██████████| 390/390 [00:15<00:00, 24.56batch/s, accuracy=84.9, loss=0.348]\n"
          ]
        },
        {
          "name": "stdout",
          "output_type": "stream",
          "text": [
            "===> Epoch 9 Complete: Avg. Loss: 0.3483, Validation Accuracy: 84.29%\n",
            "Validation accuracy improved, saving model...\n",
            "\n"
          ]
        },
        {
          "name": "stderr",
          "output_type": "stream",
          "text": [
            "Epoch 10: 100%|██████████| 390/390 [00:16<00:00, 24.25batch/s, accuracy=85.6, loss=0.333]\n"
          ]
        },
        {
          "name": "stdout",
          "output_type": "stream",
          "text": [
            "===> Epoch 10 Complete: Avg. Loss: 0.3334, Validation Accuracy: 84.44%\n",
            "Validation accuracy improved, saving model...\n",
            "\n"
          ]
        },
        {
          "name": "stderr",
          "output_type": "stream",
          "text": [
            "Epoch 11: 100%|██████████| 390/390 [00:16<00:00, 23.82batch/s, accuracy=86.2, loss=0.322]\n"
          ]
        },
        {
          "name": "stdout",
          "output_type": "stream",
          "text": [
            "===> Epoch 11 Complete: Avg. Loss: 0.3215, Validation Accuracy: 84.68%\n",
            "Validation accuracy improved, saving model...\n",
            "\n"
          ]
        },
        {
          "name": "stderr",
          "output_type": "stream",
          "text": [
            "Epoch 12: 100%|██████████| 390/390 [00:16<00:00, 24.03batch/s, accuracy=87, loss=0.307]  \n"
          ]
        },
        {
          "name": "stdout",
          "output_type": "stream",
          "text": [
            "===> Epoch 12 Complete: Avg. Loss: 0.3066, Validation Accuracy: 84.76%\n",
            "Validation accuracy improved, saving model...\n",
            "\n"
          ]
        },
        {
          "name": "stderr",
          "output_type": "stream",
          "text": [
            "Epoch 13: 100%|██████████| 390/390 [00:16<00:00, 24.26batch/s, accuracy=87.6, loss=0.298]\n"
          ]
        },
        {
          "name": "stdout",
          "output_type": "stream",
          "text": [
            "===> Epoch 13 Complete: Avg. Loss: 0.2979, Validation Accuracy: 84.38%\n"
          ]
        },
        {
          "name": "stderr",
          "output_type": "stream",
          "text": [
            "Epoch 14: 100%|██████████| 390/390 [00:16<00:00, 24.28batch/s, accuracy=87.8, loss=0.291]\n"
          ]
        },
        {
          "name": "stdout",
          "output_type": "stream",
          "text": [
            "===> Epoch 14 Complete: Avg. Loss: 0.2909, Validation Accuracy: 84.85%\n",
            "Validation accuracy improved, saving model...\n",
            "\n"
          ]
        },
        {
          "name": "stderr",
          "output_type": "stream",
          "text": [
            "Epoch 15: 100%|██████████| 390/390 [00:16<00:00, 24.21batch/s, accuracy=88.6, loss=0.275]\n"
          ]
        },
        {
          "name": "stdout",
          "output_type": "stream",
          "text": [
            "===> Epoch 15 Complete: Avg. Loss: 0.2745, Validation Accuracy: 85.09%\n",
            "Validation accuracy improved, saving model...\n",
            "\n",
            "Loading best checkpoint...\n",
            "done.\n"
          ]
        }
      ],
      "source": [
        "from tqdm import tqdm\n",
        "\n",
        "model = HAN(input_size, n_units, index_to_word)\n",
        "model.to(device)\n",
        "model = model.double()\n",
        "lr = 0.001  # learning rate\n",
        "criterion = torch.nn.BCELoss()# fill the gap, use Binary cross entropy from torch.nn: https://pytorch.org/docs/stable/nn.html#loss-functions\n",
        "optimizer = torch.optim.Adam(model.parameters(), lr=lr) #fill me\n",
        "\n",
        "def train(x_train=my_docs_array_train,\n",
        "          y_train=my_labels_array_train,\n",
        "          x_test=my_docs_array_test,\n",
        "          y_test=my_labels_array_test,\n",
        "          word_dict=index_to_word,\n",
        "          batch_size=batch_size):\n",
        "  \n",
        "    train_data = get_loader(x_train, y_train, batch_size)\n",
        "    test_data = get_loader(my_docs_array_test, my_labels_array_test, batch_size)\n",
        "\n",
        "    best_validation_acc = 0.0\n",
        "    p = 0 # patience\n",
        "\n",
        "    for epoch in range(1, nb_epochs + 1): \n",
        "        losses = []\n",
        "        accuracies = []\n",
        "        with tqdm(train_data, unit=\"batch\") as tepoch:\n",
        "            for idx, data in enumerate(tepoch):\n",
        "                tepoch.set_description(f\"Epoch {epoch}\")\n",
        "                model.train()\n",
        "                optimizer.zero_grad()\n",
        "                input = data['document'].to(device)\n",
        "                label = data['label'].to(device)\n",
        "                label = label.double()\n",
        "                output = model.forward(input)[0]\n",
        "                output = output[:, -1]\n",
        "                loss = criterion(output, label) # compute the loss\n",
        "                loss.backward()\n",
        "                torch.nn.utils.clip_grad_norm_(model.parameters(), 0.5) # prevent exploding gradient \n",
        "                optimizer.step()\n",
        "\n",
        "                losses.append(loss.item())\n",
        "                accuracy = torch.sum(torch.round(output) == label).item() / batch_size\n",
        "                accuracies.append(accuracy)\n",
        "                tepoch.set_postfix(loss=sum(losses)/len(losses), accuracy=100. * sum(accuracies)/len(accuracies))\n",
        "\n",
        "        # train_acc = evaluate_accuracy(train_data, False)\n",
        "        test_acc = evaluate_accuracy(test_data, False)\n",
        "        print(\"===> Epoch {} Complete: Avg. Loss: {:.4f}, Validation Accuracy: {:3.2f}%\"\n",
        "              .format(epoch, sum(losses)/len(losses), 100.*test_acc))\n",
        "        if test_acc >= best_validation_acc:\n",
        "            best_validation_acc = test_acc\n",
        "            print(\"Validation accuracy improved, saving model...\")\n",
        "            torch.save(model.state_dict(), './best_model.pt')\n",
        "            p = 0\n",
        "            print()\n",
        "        else:\n",
        "            p += 1\n",
        "            if p==my_patience:\n",
        "                print(\"Validation accuracy did not improve for {} epochs, stopping training...\".format(my_patience))\n",
        "    print(\"Loading best checkpoint...\")    \n",
        "    model.load_state_dict(torch.load('./best_model.pt'))\n",
        "    model.eval()\n",
        "    print('done.')\n",
        "\n",
        "train()"
      ]
    },
    {
      "cell_type": "markdown",
      "metadata": {
        "id": "Dvyr8B5QHlst"
      },
      "source": [
        "### = = = = = Extraction of Attention Coefficients = = = = =\n",
        "In this section, we will extract and display the attention coefficients on two levels: sentence level and word level. To do so, we will extract the corresponding weights from our model.\n",
        "#### <b>Task 3:</b>"
      ]
    },
    {
      "cell_type": "code",
      "execution_count": 9,
      "metadata": {
        "id": "UVr8cS4MHlst"
      },
      "outputs": [],
      "source": [
        "# select last review:\n",
        "my_review = my_docs_array_test[-1:,:,:]\n",
        " \n",
        "# convert integer review to text:\n",
        "index_to_word[1] = 'OOV'\n",
        "my_review_text = [[index_to_word[idx] for idx in sent if idx in index_to_word] for sent in my_review.tolist()[0]]"
      ]
    },
    {
      "cell_type": "markdown",
      "metadata": {
        "id": "wHDJ7JiqHlsu"
      },
      "source": [
        "###   &emsp;&emsp;  = = = = = Attention Over Sentences in the Document = = = = ="
      ]
    },
    {
      "cell_type": "code",
      "execution_count": 10,
      "metadata": {
        "colab": {
          "base_uri": "https://localhost:8080/"
        },
        "id": "yooWg3kkHlsu",
        "outputId": "2421291a-c557-46a9-8f75-74c998053f74"
      },
      "outputs": [
        {
          "name": "stdout",
          "output_type": "stream",
          "text": [
            "10.46 There 's a sign on The Lost Highway that says : OOV SPOILERS OOV ( but you already knew that , did n't you ? )\n",
            "3.86 Since there 's a great deal of people that apparently did not get the point of this movie , I 'd like to contribute my interpretation of why the plot\n",
            "3.92 As others have pointed out , one single viewing of this movie is not sufficient .\n",
            "3.81 If you have the DVD of MD , you can OOV ' by looking at David Lynch 's 'Top 10 OOV to OOV MD ' ( but only upon second\n",
            "2.99 ; ) First of all , Mulholland Drive is downright brilliant .\n",
            "3.88 A masterpiece .\n",
            "11.15 This is the kind of movie that refuse to leave your head .\n"
          ]
        }
      ],
      "source": [
        "sent_coeffs = model(torch.tensor(my_review, dtype=torch.long).to(device))[1]  # get sentence attention coeffs by passing the review to the model - (you need to convert the inout torch tensor)\n",
        "sent_coeffs = sent_coeffs[0,:,:]\n",
        "\n",
        "for elt in zip(sent_coeffs[:,0].tolist(),[' '.join(elt) for elt in my_review_text]):\n",
        "    print(round(elt[0]*100,2),elt[1])"
      ]
    },
    {
      "cell_type": "markdown",
      "metadata": {
        "id": "rII-DNrKHlsu"
      },
      "source": [
        "### &emsp;&emsp; = = = = = Attention Over Words in Each Sentence = = = = ="
      ]
    },
    {
      "cell_type": "code",
      "execution_count": 11,
      "metadata": {
        "colab": {
          "base_uri": "https://localhost:8080/"
        },
        "id": "JyFjAga6Hlsu",
        "outputId": "d9640e73-a3a1-4745-b215-d55470036a3c"
      },
      "outputs": [
        {
          "name": "stdout",
          "output_type": "stream",
          "text": [
            "('There', 0.1045705536642164)\n",
            "(\"'s\", 0.03858370151984117)\n",
            "('a', 0.0392042826803436)\n",
            "('sign', 0.03814042103496396)\n",
            "('on', 0.029934298314460886)\n",
            "('The', 0.0387681825126758)\n",
            "('Lost', 0.11154415516443415)\n",
            "('Highway', 0.11651427447516047)\n",
            "('that', 0.027415843285533318)\n",
            "('says', 0.02331106835939643)\n",
            "(':', 0.022105039959378913)\n",
            "('OOV', 0.016426020689612235)\n",
            "('SPOILERS', 0.016216614341117756)\n",
            "('OOV', 0.014256490513048949)\n",
            "('(', 0.016515573146621082)\n",
            "('but', 0.02845134917424695)\n",
            "('you', 0.029231183113701178)\n",
            "('already', 0.029084088232689348)\n",
            "('knew', 0.03844553709847756)\n",
            "('that', 0.03240908898995247)\n",
            "(',', 0.02077464741471928)\n",
            "('did', 0.021311235198298393)\n",
            "(\"n't\", 0.021398270507720484)\n",
            "('you', 0.020053389129359438)\n",
            "('?', 0.021742973485714603)\n",
            "(')', 0.015487138887420773)\n",
            "= = = =\n",
            "('Since', 0.06703246620784391)\n",
            "('there', 0.053487901231653374)\n",
            "(\"'s\", 0.05068707040175416)\n",
            "('a', 0.04894479762508611)\n",
            "('great', 0.1716747224996056)\n",
            "('deal', 0.04351068392035274)\n",
            "('of', 0.020844235179286554)\n",
            "('people', 0.025803887976470773)\n",
            "('that', 0.019817379997411993)\n",
            "('apparently', 0.02719193841079717)\n",
            "('did', 0.02363220376974256)\n",
            "('not', 0.02170016057511693)\n",
            "('get', 0.018619273239358195)\n",
            "('the', 0.015242999027336723)\n",
            "('point', 0.0455186258252191)\n",
            "('of', 0.026056542219541196)\n",
            "('this', 0.0403285280578292)\n",
            "('movie', 0.034664186686680636)\n",
            "(',', 0.01778227426344067)\n",
            "('I', 0.018012374829954474)\n",
            "(\"'d\", 0.03367674061045744)\n",
            "('like', 0.025956159761280358)\n",
            "('to', 0.021558773727173325)\n",
            "('contribute', 0.020731666948984113)\n",
            "('my', 0.016612400318898837)\n",
            "('interpretation', 0.01719428050913676)\n",
            "('of', 0.013874552745965675)\n",
            "('why', 0.014507013029466906)\n",
            "('the', 0.012997606453281884)\n",
            "('plot', 0.03233855384744901)\n",
            "= = = =\n",
            "('As', 0.04584605185091087)\n",
            "('others', 0.03846018489489406)\n",
            "('have', 0.0215504772574501)\n",
            "('pointed', 0.02954501916983016)\n",
            "('out', 0.030319407099247554)\n",
            "(',', 0.016052375136079097)\n",
            "('one', 0.027057513827802866)\n",
            "('single', 0.05031972809572468)\n",
            "('viewing', 0.12027194016493144)\n",
            "('of', 0.04207257333268238)\n",
            "('this', 0.04158606536478913)\n",
            "('movie', 0.030871234735467195)\n",
            "('is', 0.042422079422086104)\n",
            "('not', 0.08501827959054896)\n",
            "('sufficient', 0.10192897300306605)\n",
            "('.', 0.021626735075340728)\n",
            "= = = =\n",
            "('If', 0.06538488753469521)\n",
            "('you', 0.04477305893029282)\n",
            "('have', 0.02884225971529817)\n",
            "('the', 0.03210499320142556)\n",
            "('DVD', 0.05104895529545628)\n",
            "('of', 0.034463067905697864)\n",
            "('MD', 0.03677569767925139)\n",
            "(',', 0.015846291118276467)\n",
            "('you', 0.022126774923686598)\n",
            "('can', 0.01928220132929194)\n",
            "('OOV', 0.01967715614901565)\n",
            "(\"'\", 0.021744383461444874)\n",
            "('by', 0.03381309210183522)\n",
            "('looking', 0.04362388392507153)\n",
            "('at', 0.030156256753126123)\n",
            "('David', 0.03145775386491795)\n",
            "('Lynch', 0.0314812026923397)\n",
            "(\"'s\", 0.029938514592730902)\n",
            "(\"'Top\", 0.026984021660049158)\n",
            "('10', 0.021765799323572)\n",
            "('OOV', 0.026019542332461596)\n",
            "('to', 0.027057736964151723)\n",
            "('OOV', 0.032022663161550766)\n",
            "('MD', 0.08752572474892814)\n",
            "(\"'\", 0.02211886679542556)\n",
            "('(', 0.01883709333578656)\n",
            "('but', 0.03143478902356073)\n",
            "('only', 0.045183556769789156)\n",
            "('upon', 0.03573710522785973)\n",
            "('second', 0.03277266936205182)\n",
            "= = = =\n",
            "(';', 0.03895377747335872)\n",
            "(')', 0.019671907522950366)\n",
            "('First', 0.033387452349476286)\n",
            "('of', 0.017696932616761685)\n",
            "('all', 0.01619791772368216)\n",
            "(',', 0.012067222454501262)\n",
            "('Mulholland', 0.01487351923111921)\n",
            "('Drive', 0.01445000245849506)\n",
            "('is', 0.04801196509934249)\n",
            "('downright', 0.32491301191171845)\n",
            "('brilliant', 0.2001470199218852)\n",
            "('.', 0.028308729267517423)\n",
            "= = = =\n",
            "('A', 0.12497625844191826)\n",
            "('masterpiece', 0.2291812898258948)\n",
            "('.', 0.0450588186516212)\n",
            "= = = =\n",
            "('This', 0.08001819870949611)\n",
            "('is', 0.0694735209102141)\n",
            "('the', 0.09161957324720464)\n",
            "('kind', 0.17324311157677383)\n",
            "('of', 0.0699414636989574)\n",
            "('movie', 0.04106339336855779)\n",
            "('that', 0.038117871254362494)\n",
            "('refuse', 0.029598466979438378)\n",
            "('to', 0.028688481437013018)\n",
            "('leave', 0.02866746225767879)\n",
            "('your', 0.018750516358122204)\n",
            "('head', 0.02030918475716617)\n",
            "('.', 0.016620715537821767)\n",
            "= = = =\n",
            "('Highway', 0.11651427447516047)\n",
            "('Lost', 0.11154415516443415)\n",
            "('There', 0.1045705536642164)\n",
            "('a', 0.0392042826803436)\n",
            "('The', 0.0387681825126758)\n",
            "(\"'s\", 0.03858370151984117)\n",
            "('knew', 0.03844553709847756)\n",
            "('sign', 0.03814042103496396)\n",
            "('that', 0.03240908898995247)\n",
            "('on', 0.029934298314460886)\n",
            "('you', 0.029231183113701178)\n",
            "('already', 0.029084088232689348)\n",
            "('but', 0.02845134917424695)\n",
            "('that', 0.027415843285533318)\n",
            "('says', 0.02331106835939643)\n",
            "(':', 0.022105039959378913)\n",
            "('?', 0.021742973485714603)\n",
            "(\"n't\", 0.021398270507720484)\n",
            "('did', 0.021311235198298393)\n",
            "(',', 0.02077464741471928)\n",
            "('you', 0.020053389129359438)\n",
            "('(', 0.016515573146621082)\n",
            "('OOV', 0.016426020689612235)\n",
            "('SPOILERS', 0.016216614341117756)\n",
            "(')', 0.015487138887420773)\n",
            "('OOV', 0.014256490513048949)\n",
            "= = = =\n",
            "('great', 0.1716747224996056)\n",
            "('Since', 0.06703246620784391)\n",
            "('there', 0.053487901231653374)\n",
            "(\"'s\", 0.05068707040175416)\n",
            "('a', 0.04894479762508611)\n",
            "('point', 0.0455186258252191)\n",
            "('deal', 0.04351068392035274)\n",
            "('this', 0.0403285280578292)\n",
            "('movie', 0.034664186686680636)\n",
            "(\"'d\", 0.03367674061045744)\n",
            "('plot', 0.03233855384744901)\n",
            "('apparently', 0.02719193841079717)\n",
            "('of', 0.026056542219541196)\n",
            "('like', 0.025956159761280358)\n",
            "('people', 0.025803887976470773)\n",
            "('did', 0.02363220376974256)\n",
            "('not', 0.02170016057511693)\n",
            "('to', 0.021558773727173325)\n",
            "('of', 0.020844235179286554)\n",
            "('contribute', 0.020731666948984113)\n",
            "('that', 0.019817379997411993)\n",
            "('get', 0.018619273239358195)\n",
            "('I', 0.018012374829954474)\n",
            "(',', 0.01778227426344067)\n",
            "('interpretation', 0.01719428050913676)\n",
            "('my', 0.016612400318898837)\n",
            "('the', 0.015242999027336723)\n",
            "('why', 0.014507013029466906)\n",
            "('of', 0.013874552745965675)\n",
            "('the', 0.012997606453281884)\n",
            "= = = =\n",
            "('viewing', 0.12027194016493144)\n",
            "('sufficient', 0.10192897300306605)\n",
            "('not', 0.08501827959054896)\n",
            "('single', 0.05031972809572468)\n",
            "('As', 0.04584605185091087)\n",
            "('is', 0.042422079422086104)\n",
            "('of', 0.04207257333268238)\n",
            "('this', 0.04158606536478913)\n",
            "('others', 0.03846018489489406)\n",
            "('movie', 0.030871234735467195)\n",
            "('out', 0.030319407099247554)\n",
            "('pointed', 0.02954501916983016)\n",
            "('one', 0.027057513827802866)\n",
            "('.', 0.021626735075340728)\n",
            "('have', 0.0215504772574501)\n",
            "(',', 0.016052375136079097)\n",
            "= = = =\n",
            "('MD', 0.08752572474892814)\n",
            "('If', 0.06538488753469521)\n",
            "('DVD', 0.05104895529545628)\n",
            "('only', 0.045183556769789156)\n",
            "('you', 0.04477305893029282)\n",
            "('looking', 0.04362388392507153)\n",
            "('MD', 0.03677569767925139)\n",
            "('upon', 0.03573710522785973)\n",
            "('of', 0.034463067905697864)\n",
            "('by', 0.03381309210183522)\n",
            "('second', 0.03277266936205182)\n",
            "('the', 0.03210499320142556)\n",
            "('OOV', 0.032022663161550766)\n",
            "('Lynch', 0.0314812026923397)\n",
            "('David', 0.03145775386491795)\n",
            "('but', 0.03143478902356073)\n",
            "('at', 0.030156256753126123)\n",
            "(\"'s\", 0.029938514592730902)\n",
            "('have', 0.02884225971529817)\n",
            "('to', 0.027057736964151723)\n",
            "(\"'Top\", 0.026984021660049158)\n",
            "('OOV', 0.026019542332461596)\n",
            "('you', 0.022126774923686598)\n",
            "(\"'\", 0.02211886679542556)\n",
            "('10', 0.021765799323572)\n",
            "(\"'\", 0.021744383461444874)\n",
            "('OOV', 0.01967715614901565)\n",
            "('can', 0.01928220132929194)\n",
            "('(', 0.01883709333578656)\n",
            "(',', 0.015846291118276467)\n",
            "= = = =\n",
            "('downright', 0.32491301191171845)\n",
            "('brilliant', 0.2001470199218852)\n",
            "('is', 0.04801196509934249)\n",
            "(';', 0.03895377747335872)\n",
            "('First', 0.033387452349476286)\n",
            "('.', 0.028308729267517423)\n",
            "(')', 0.019671907522950366)\n",
            "('of', 0.017696932616761685)\n",
            "('all', 0.01619791772368216)\n",
            "('Mulholland', 0.01487351923111921)\n",
            "('Drive', 0.01445000245849506)\n",
            "(',', 0.012067222454501262)\n",
            "= = = =\n",
            "('masterpiece', 0.2291812898258948)\n",
            "('A', 0.12497625844191826)\n",
            "('.', 0.0450588186516212)\n",
            "= = = =\n",
            "('kind', 0.17324311157677383)\n",
            "('the', 0.09161957324720464)\n",
            "('This', 0.08001819870949611)\n",
            "('of', 0.0699414636989574)\n",
            "('is', 0.0694735209102141)\n",
            "('movie', 0.04106339336855779)\n",
            "('that', 0.038117871254362494)\n",
            "('refuse', 0.029598466979438378)\n",
            "('to', 0.028688481437013018)\n",
            "('leave', 0.02866746225767879)\n",
            "('head', 0.02030918475716617)\n",
            "('your', 0.018750516358122204)\n",
            "('.', 0.016620715537821767)\n",
            "= = = =\n"
          ]
        }
      ],
      "source": [
        "word_coeffs = model(torch.tensor(my_review, dtype=torch.long).to(device))[1]  # get words attention coeffs by passing the review to the model - (you need to convert the inout torch tensor)\n",
        "\n",
        "word_coeffs_list = word_coeffs.reshape(7,30).tolist()\n",
        "\n",
        "# match text and coefficients:\n",
        "text_word_coeffs = [list(zip(words,word_coeffs_list[idx][:len(words)])) for idx,words in enumerate(my_review_text)]\n",
        "\n",
        "for sent in text_word_coeffs:\n",
        "    [print(elt) for elt in sent]\n",
        "    print('= = = =')\n",
        "\n",
        "# sort words by importance within each sentence:\n",
        "text_word_coeffs_sorted = [sorted(elt,key=operator.itemgetter(1),reverse=True) for elt in text_word_coeffs]\n",
        "\n",
        "for sent in text_word_coeffs_sorted:\n",
        "    [print(elt) for elt in sent]\n",
        "    print('= = = =')"
      ]
    },
    {
      "cell_type": "code",
      "execution_count": 24,
      "metadata": {},
      "outputs": [],
      "source": [
        "# Bonus: plotting the word importance:\n",
        "import matplotlib.pyplot as plt\n",
        "\n",
        "def plot_word_importance(text_word_coeffs_sorted, sentence_index=0):\n",
        "    sent = text_word_coeffs_sorted[sentence_index]\n",
        "    words, coeffs = zip(*sent)\n",
        "    plt.figure(figsize=(10, 5))\n",
        "    plt.barh(words, coeffs, color='skyblue')\n",
        "    plt.xlabel('Attention Coefficients')\n",
        "    plt.title(f'Word Importance in Sentence {sentence_index + 1}')\n",
        "    plt.xlim(0, max(coeffs) + 0.1)\n",
        "    plt.gca().invert_yaxis()\n",
        "    plt.savefig('word_importance')\n",
        "    plt.show()\n",
        "\n",
        "    "
      ]
    },
    {
      "cell_type": "code",
      "execution_count": 25,
      "metadata": {},
      "outputs": [
        {
          "data": {
            "image/png": "[encoded data removed]",
            "text/plain": [
              "<Figure size 1000x500 with 1 Axes>"
            ]
          },
          "metadata": {},
          "output_type": "display_data"
        }
      ],
      "source": [
        "# Plot word importance for the first sentence\n",
        "plot_word_importance(text_word_coeffs_sorted, sentence_index=0)"
      ]
    }
  ],
  "metadata": {
    "accelerator": "GPU",
    "colab": {
      "collapsed_sections": [],
      "provenance": []
    },
    "kernelspec": {
      "display_name": "Python 3",
      "language": "python",
      "name": "python3"
    },
    "language_info": {
      "codemirror_mode": {
        "name": "ipython",
        "version": 3
      },
      "file_extension": ".py",
      "mimetype": "text/x-python",
      "name": "python",
      "nbconvert_exporter": "python",
      "pygments_lexer": "ipython3",
      "version": "3.12.7"
    }
  },
  "nbformat": 4,
  "nbformat_minor": 0
}
